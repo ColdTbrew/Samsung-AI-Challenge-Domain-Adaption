{
 "cells": [
  {
   "cell_type": "markdown",
   "id": "b89430ee-25b0-468e-ae48-40e91caa568e",
   "metadata": {},
   "source": [
    "# 13 class dataset "
   ]
  },
  {
   "cell_type": "code",
   "execution_count": 3,
   "id": "6573463d-0b53-4eba-8381-904217f6074e",
   "metadata": {},
   "outputs": [
    {
     "name": "stdout",
     "output_type": "stream",
     "text": [
      "open/train_img\\.ipynb_checkpoints 변환 중 오류 발생: [Errno 13] Permission denied: 'open/train_img\\\\.ipynb_checkpoints'\n"
     ]
    },
    {
     "data": {
      "application/vnd.jupyter.widget-view+json": {
       "model_id": "4f4421ed0895483bab80f34d3ea6a371",
       "version_major": 2,
       "version_minor": 0
      },
      "text/plain": [
       "  0%|          | 0/2195 [00:00<?, ?it/s]"
      ]
     },
     "metadata": {},
     "output_type": "display_data"
    }
   ],
   "source": [
    "from PIL import Image\n",
    "import os\n",
    "from tqdm.notebook import tqdm\n",
    "import concurrent.futures\n",
    "\n",
    "# 입력 폴더와 출력 폴더 설정\n",
    "input_folder = \"open/train_img\"\n",
    "output_folder = \"13class_dataset/train_img\"\n",
    "\n",
    "if not os.path.exists(output_folder):\n",
    "    os.makedirs(output_folder)\n",
    "\n",
    "# 입력 폴더 내의 모든 파일 목록 가져오기\n",
    "file_list = os.listdir(input_folder)\n",
    "\n",
    "def process_image(filename):\n",
    "    # 파일 경로 생성\n",
    "    input_path = os.path.join(input_folder, filename)\n",
    "    output_path = os.path.join(output_folder, filename)\n",
    "\n",
    "    try:\n",
    "        # 이미지 열기\n",
    "        img = Image.open(input_path)\n",
    "\n",
    "        # 변환된 이미지 저장\n",
    "        img.save(output_path)\n",
    "\n",
    "    except Exception as e:\n",
    "        print(f\"{input_path} 변환 중 오류 발생: {str(e)}\")\n",
    "\n",
    "\n",
    "with concurrent.futures.ThreadPoolExecutor() as executor:\n",
    "    list(tqdm(executor.map(process_image, file_list), total=len(file_list)))\n"
   ]
  },
  {
   "cell_type": "code",
   "execution_count": 5,
   "id": "0dbe16d5-7ad7-4940-abfa-598d89d84bf2",
   "metadata": {},
   "outputs": [
    {
     "data": {
      "application/vnd.jupyter.widget-view+json": {
       "model_id": "5f49b20d35ef4ac3b5db3efa1eeba6f3",
       "version_major": 2,
       "version_minor": 0
      },
      "text/plain": [
       "  0%|          | 0/466 [00:00<?, ?it/s]"
      ]
     },
     "metadata": {},
     "output_type": "display_data"
    }
   ],
   "source": [
    "from PIL import Image\n",
    "import os\n",
    "from tqdm.notebook import tqdm\n",
    "import concurrent.futures\n",
    "\n",
    "# 입력 폴더와 출력 폴더 설정\n",
    "input_folder = \"open/valid_img\"\n",
    "output_folder = \"13class_dataset/valid_img\"\n",
    "\n",
    "if not os.path.exists(output_folder):\n",
    "    os.makedirs(output_folder)\n",
    "\n",
    "# 입력 폴더 내의 모든 파일 목록 가져오기\n",
    "file_list = os.listdir(input_folder)\n",
    "\n",
    "def process_image(filename):\n",
    "    # 파일 경로 생성\n",
    "    input_path = os.path.join(input_folder, filename)\n",
    "    output_path = os.path.join(output_folder, filename)\n",
    "\n",
    "    try:\n",
    "        # 이미지 열기\n",
    "        img = Image.open(input_path)\n",
    "\n",
    "        # 변환된 이미지 저장\n",
    "        img.save(output_path)\n",
    "\n",
    "    except Exception as e:\n",
    "        print(f\"{input_path} 변환 중 오류 발생: {str(e)}\")\n",
    "\n",
    "# 작업을 병렬로 처리하기 위해 ThreadPoolExecutor 사용\n",
    "with concurrent.futures.ThreadPoolExecutor() as executor:\n",
    "    list(tqdm(executor.map(process_image, file_list), total=len(file_list)))\n"
   ]
  },
  {
   "cell_type": "code",
   "execution_count": 6,
   "id": "e4126e6b-4a0e-41ce-9fbc-79ca7c1f199d",
   "metadata": {},
   "outputs": [
    {
     "name": "stdout",
     "output_type": "stream",
     "text": [
      "open/train_img_anno\\.ipynb_checkpoints 변환 중 오류 발생: [Errno 13] Permission denied: 'open/train_img_anno\\\\.ipynb_checkpoints'\n"
     ]
    },
    {
     "data": {
      "application/vnd.jupyter.widget-view+json": {
       "model_id": "9d0f45e967b74686af291d0345d25583",
       "version_major": 2,
       "version_minor": 0
      },
      "text/plain": [
       "  0%|          | 0/2195 [00:00<?, ?it/s]"
      ]
     },
     "metadata": {},
     "output_type": "display_data"
    }
   ],
   "source": [
    "from PIL import Image\n",
    "import os\n",
    "from tqdm.notebook import tqdm\n",
    "import concurrent.futures\n",
    "\n",
    "# 입력 폴더와 출력 폴더 설정\n",
    "input_folder = \"open/train_img_anno\"\n",
    "output_folder = \"13class_dataset/train_img_anno\"\n",
    "\n",
    "if not os.path.exists(output_folder):\n",
    "    os.makedirs(output_folder)\n",
    "\n",
    "# 입력 폴더 내의 모든 파일 목록 가져오기\n",
    "file_list = os.listdir(input_folder)\n",
    "\n",
    "def process_image(filename):\n",
    "    # 파일 경로 생성\n",
    "    input_path = os.path.join(input_folder, filename)\n",
    "    output_path = os.path.join(output_folder, filename)\n",
    "\n",
    "    try:\n",
    "        # 이미지 열기\n",
    "        img = Image.open(input_path)\n",
    "\n",
    "        # 픽셀 값 255를 12로 변환\n",
    "        img = img.point(lambda p: p if p != 255 else 12)\n",
    "\n",
    "        # 변환된 이미지 저장\n",
    "        img.save(output_path)\n",
    "\n",
    "    except Exception as e:\n",
    "        print(f\"{input_path} 변환 중 오류 발생: {str(e)}\")\n",
    "\n",
    "with concurrent.futures.ThreadPoolExecutor() as executor:\n",
    "    list(tqdm(executor.map(process_image, file_list), total=len(file_list)))\n"
   ]
  },
  {
   "cell_type": "code",
   "execution_count": 7,
   "id": "7d1286f7-277b-4759-8bd4-faebab531287",
   "metadata": {},
   "outputs": [
    {
     "data": {
      "application/vnd.jupyter.widget-view+json": {
       "model_id": "53009959f8414d24b08cf14d63a144aa",
       "version_major": 2,
       "version_minor": 0
      },
      "text/plain": [
       "  0%|          | 0/466 [00:00<?, ?it/s]"
      ]
     },
     "metadata": {},
     "output_type": "display_data"
    }
   ],
   "source": [
    "from PIL import Image\n",
    "import os\n",
    "from tqdm.notebook import tqdm\n",
    "import concurrent.futures\n",
    "\n",
    "# 입력 폴더와 출력 폴더 설정\n",
    "input_folder = \"open/valid_img_anno\"\n",
    "output_folder = \"13class_dataset/valid_img_anno\"\n",
    "\n",
    "if not os.path.exists(output_folder):\n",
    "    os.makedirs(output_folder)\n",
    "\n",
    "# 입력 폴더 내의 모든 파일 목록 가져오기\n",
    "file_list = os.listdir(input_folder)\n",
    "\n",
    "def process_image(filename):\n",
    "    # 파일 경로 생성\n",
    "    input_path = os.path.join(input_folder, filename)\n",
    "    output_path = os.path.join(output_folder, filename)\n",
    "\n",
    "    try:\n",
    "        # 이미지 열기\n",
    "        img = Image.open(input_path)\n",
    "\n",
    "        # 픽셀 값 255를 12로 변환\n",
    "        img = img.point(lambda p: p if p != 255 else 12)\n",
    "\n",
    "        # 변환된 이미지 저장\n",
    "        img.save(output_path)\n",
    "\n",
    "\n",
    "    except Exception as e:\n",
    "        print(f\"{input_path} 변환 중 오류 발생: {str(e)}\")\n",
    "\n",
    "\n",
    "with concurrent.futures.ThreadPoolExecutor() as executor:\n",
    "    list(tqdm(executor.map(process_image, file_list), total=len(file_list)))\n"
   ]
  },
  {
   "cell_type": "code",
   "execution_count": null,
   "id": "bd5422d2-35be-4c15-8295-6e5680b991f2",
   "metadata": {},
   "outputs": [],
   "source": []
  }
 ],
 "metadata": {
  "kernelspec": {
   "display_name": "Python 3 (ipykernel)",
   "language": "python",
   "name": "python3"
  },
  "language_info": {
   "codemirror_mode": {
    "name": "ipython",
    "version": 3
   },
   "file_extension": ".py",
   "mimetype": "text/x-python",
   "name": "python",
   "nbconvert_exporter": "python",
   "pygments_lexer": "ipython3",
   "version": "3.11.4"
  }
 },
 "nbformat": 4,
 "nbformat_minor": 5
}
